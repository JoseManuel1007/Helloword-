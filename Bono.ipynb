{
  "nbformat": 4,
  "nbformat_minor": 0,
  "metadata": {
    "colab": {
      "provenance": [],
      "authorship_tag": "ABX9TyOD/sm8bLFrTuPnP5WNC7IA",
      "include_colab_link": true
    },
    "kernelspec": {
      "name": "python3",
      "display_name": "Python 3"
    },
    "language_info": {
      "name": "python"
    }
  },
  "cells": [
    {
      "cell_type": "markdown",
      "metadata": {
        "id": "view-in-github",
        "colab_type": "text"
      },
      "source": [
        "<a href=\"https://colab.research.google.com/github/JoseManuel1007/Helloword-/blob/main/Bono.ipynb\" target=\"_parent\"><img src=\"https://colab.research.google.com/assets/colab-badge.svg\" alt=\"Open In Colab\"/></a>"
      ]
    },
    {
      "cell_type": "code",
      "execution_count": null,
      "metadata": {
        "colab": {
          "base_uri": "https://localhost:8080/"
        },
        "id": "XaPDNV-X5QdL",
        "outputId": "b78de879-ea6c-47e2-ea6b-31344d0b2f32"
      },
      "outputs": [
        {
          "output_type": "stream",
          "name": "stdout",
          "text": [
            "Estudiantes con promedio > 4.0: ['Ana', 'Marta']\n",
            "\n",
            "Productos filtrados:\n",
            "  Producto  PrecioUnitario  Stock  Impuesto%  ValorTotal  Precio_impuesto\n",
            "1        B              50     30         10        1500             55.0\n"
          ]
        }
      ],
      "source": [
        "# -------------------------\n",
        "# Challenge #1\n",
        "# -------------------------\n",
        "\n",
        "grades = {\n",
        "    \"Ana\": [4.5, 3.9, 4.8],\n",
        "    \"Luis\": [3.0, 3.5, 2.9],\n",
        "    \"Marta\": [4.2, 4.3, 4.1],\n",
        "    \"Pedro\": [3.8, 4.0, 3.9]\n",
        "}\n",
        "\n",
        "# Lista con estudiantes con promedio mayor a 4.0\n",
        "students_above_4 = [name for name, scores in grades.items() if sum(scores)/len(scores) > 4.0]\n",
        "\n",
        "print(\"Estudiantes con promedio > 4.0:\", students_above_4)\n",
        "\n",
        "\n",
        "# -------------------------\n",
        "# Challenge #2\n",
        "# -------------------------\n",
        "import pandas as pd\n",
        "\n",
        "productos = pd.DataFrame({\n",
        "    \"Producto\": [\"A\", \"B\", \"C\", \"D\"],\n",
        "    \"PrecioUnitario\": [20, 50, 30, 10],\n",
        "    \"Stock\": [100, 30, 80, 200],\n",
        "    \"Impuesto%\": [5, 10, 8, 0]\n",
        "})\n",
        "\n",
        "# 1. ValorTotal = PrecioUnitario * Stock\n",
        "productos[\"ValorTotal\"] = productos[\"PrecioUnitario\"] * productos[\"Stock\"]\n",
        "\n",
        "# 2. Precio_impuesto = PrecioUnitario + (PrecioUnitario * Impuesto%)\n",
        "productos[\"Precio_impuesto\"] = productos[\"PrecioUnitario\"] * (1 + productos[\"Impuesto%\"]/100)\n",
        "\n",
        "# 3. Filtrar productos con Stock < 50 y Precio_impuesto > 40\n",
        "filtered_products = productos[(productos[\"Stock\"] < 50) & (productos[\"Precio_impuesto\"] > 40)]\n",
        "\n",
        "print(\"\\nProductos filtrados:\")\n",
        "print(filtered_products)"
      ]
    }
  ]
}